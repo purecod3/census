{
 "metadata": {
  "language_info": {
   "codemirror_mode": {
    "name": "ipython",
    "version": 3
   },
   "file_extension": ".py",
   "mimetype": "text/x-python",
   "name": "python",
   "nbconvert_exporter": "python",
   "pygments_lexer": "ipython3",
   "version": "3.6.10-final"
  },
  "orig_nbformat": 2,
  "kernelspec": {
   "name": "python_defaultSpec_1599096743416",
   "display_name": "Python 3.6.10 64-bit ('census': conda)"
  }
 },
 "nbformat": 4,
 "nbformat_minor": 2,
 "cells": [
  {
   "cell_type": "code",
   "execution_count": 1,
   "metadata": {},
   "outputs": [],
   "source": [
    "import pandas as pd \n",
    "import censusdata "
   ]
  },
  {
   "cell_type": "code",
   "execution_count": 2,
   "metadata": {},
   "outputs": [],
   "source": [
    "pd.set_option('display.expand_frame_repr', False)\n",
    "pd.set_option('display.precision', 2)"
   ]
  },
  {
   "cell_type": "code",
   "execution_count": 3,
   "metadata": {},
   "outputs": [],
   "source": [
    "county_econ_df = censusdata.download('acs5', 2018, censusdata.censusgeo([('county', '*')]),\n",
    "                             ['C24050_001E', 'C24050_002E', 'C24050_003E', 'C24050_004E',\n",
    "                              'C24050_005E', 'C24050_006E', 'C24050_007E', 'C24050_008E',\n",
    "                              'C24050_009E', 'C24050_010E', 'C24050_011E', 'C24050_012E',\n",
    "                              'C24050_013E', 'C24050_014E'\n",
    "                             ])"
   ]
  },
  {
   "cell_type": "code",
   "execution_count": 4,
   "metadata": {},
   "outputs": [
    {
     "output_type": "execute_result",
     "data": {
      "text/plain": "       C24050_001E  C24050_002E  C24050_003E  C24050_004E  C24050_005E  C24050_006E  C24050_007E  C24050_008E  C24050_009E  C24050_010E  C24050_011E  C24050_012E  C24050_013E  C24050_014E\ncount     3.22e+03      3219.00      3219.00      3219.00      3219.00      3219.00      3219.00      3219.00      3219.00      3219.00     3.22e+03      3219.00      3219.00      3219.00\nmean      4.78e+04       871.97      3084.40      4859.42      1259.40      5398.02      2492.10       988.71      3128.52      5453.48     1.10e+04      4628.43      2335.18      2226.94\nstd       1.58e+05      2411.54     10159.49     14881.50      4805.32     17014.87      9231.31      5081.49     11833.07     22036.10     3.45e+04     17189.20      8501.92      6445.17\nmin       3.60e+01         0.00         0.00         0.00         0.00         3.00         0.00         0.00         0.00         0.00     3.00e+00         0.00         0.00         0.00\n25%       4.59e+03       252.50       327.00       464.50        91.00       484.00       247.00        46.00       168.00       234.50     1.05e+03       307.50       201.00       237.50\n50%       1.06e+04       456.00       808.00      1392.00       240.00      1274.00       578.00       130.00       431.00       668.00     2.46e+03       839.00       511.00       548.00\n75%       2.92e+04       828.50      2129.00      3954.50       704.00      3587.50      1539.00       411.00      1384.50      2230.50     7.04e+03      2665.00      1407.00      1495.50\nmax       4.87e+06     74447.00    284152.00    468036.00    165067.00    506432.00    283832.00    216025.00    295370.00    628758.00     1.00e+06    549162.00    290342.00    156015.00",
      "text/html": "<div>\n<style scoped>\n    .dataframe tbody tr th:only-of-type {\n        vertical-align: middle;\n    }\n\n    .dataframe tbody tr th {\n        vertical-align: top;\n    }\n\n    .dataframe thead th {\n        text-align: right;\n    }\n</style>\n<table border=\"1\" class=\"dataframe\">\n  <thead>\n    <tr style=\"text-align: right;\">\n      <th></th>\n      <th>C24050_001E</th>\n      <th>C24050_002E</th>\n      <th>C24050_003E</th>\n      <th>C24050_004E</th>\n      <th>C24050_005E</th>\n      <th>C24050_006E</th>\n      <th>C24050_007E</th>\n      <th>C24050_008E</th>\n      <th>C24050_009E</th>\n      <th>C24050_010E</th>\n      <th>C24050_011E</th>\n      <th>C24050_012E</th>\n      <th>C24050_013E</th>\n      <th>C24050_014E</th>\n    </tr>\n  </thead>\n  <tbody>\n    <tr>\n      <th>count</th>\n      <td>3.22e+03</td>\n      <td>3219.00</td>\n      <td>3219.00</td>\n      <td>3219.00</td>\n      <td>3219.00</td>\n      <td>3219.00</td>\n      <td>3219.00</td>\n      <td>3219.00</td>\n      <td>3219.00</td>\n      <td>3219.00</td>\n      <td>3.22e+03</td>\n      <td>3219.00</td>\n      <td>3219.00</td>\n      <td>3219.00</td>\n    </tr>\n    <tr>\n      <th>mean</th>\n      <td>4.78e+04</td>\n      <td>871.97</td>\n      <td>3084.40</td>\n      <td>4859.42</td>\n      <td>1259.40</td>\n      <td>5398.02</td>\n      <td>2492.10</td>\n      <td>988.71</td>\n      <td>3128.52</td>\n      <td>5453.48</td>\n      <td>1.10e+04</td>\n      <td>4628.43</td>\n      <td>2335.18</td>\n      <td>2226.94</td>\n    </tr>\n    <tr>\n      <th>std</th>\n      <td>1.58e+05</td>\n      <td>2411.54</td>\n      <td>10159.49</td>\n      <td>14881.50</td>\n      <td>4805.32</td>\n      <td>17014.87</td>\n      <td>9231.31</td>\n      <td>5081.49</td>\n      <td>11833.07</td>\n      <td>22036.10</td>\n      <td>3.45e+04</td>\n      <td>17189.20</td>\n      <td>8501.92</td>\n      <td>6445.17</td>\n    </tr>\n    <tr>\n      <th>min</th>\n      <td>3.60e+01</td>\n      <td>0.00</td>\n      <td>0.00</td>\n      <td>0.00</td>\n      <td>0.00</td>\n      <td>3.00</td>\n      <td>0.00</td>\n      <td>0.00</td>\n      <td>0.00</td>\n      <td>0.00</td>\n      <td>3.00e+00</td>\n      <td>0.00</td>\n      <td>0.00</td>\n      <td>0.00</td>\n    </tr>\n    <tr>\n      <th>25%</th>\n      <td>4.59e+03</td>\n      <td>252.50</td>\n      <td>327.00</td>\n      <td>464.50</td>\n      <td>91.00</td>\n      <td>484.00</td>\n      <td>247.00</td>\n      <td>46.00</td>\n      <td>168.00</td>\n      <td>234.50</td>\n      <td>1.05e+03</td>\n      <td>307.50</td>\n      <td>201.00</td>\n      <td>237.50</td>\n    </tr>\n    <tr>\n      <th>50%</th>\n      <td>1.06e+04</td>\n      <td>456.00</td>\n      <td>808.00</td>\n      <td>1392.00</td>\n      <td>240.00</td>\n      <td>1274.00</td>\n      <td>578.00</td>\n      <td>130.00</td>\n      <td>431.00</td>\n      <td>668.00</td>\n      <td>2.46e+03</td>\n      <td>839.00</td>\n      <td>511.00</td>\n      <td>548.00</td>\n    </tr>\n    <tr>\n      <th>75%</th>\n      <td>2.92e+04</td>\n      <td>828.50</td>\n      <td>2129.00</td>\n      <td>3954.50</td>\n      <td>704.00</td>\n      <td>3587.50</td>\n      <td>1539.00</td>\n      <td>411.00</td>\n      <td>1384.50</td>\n      <td>2230.50</td>\n      <td>7.04e+03</td>\n      <td>2665.00</td>\n      <td>1407.00</td>\n      <td>1495.50</td>\n    </tr>\n    <tr>\n      <th>max</th>\n      <td>4.87e+06</td>\n      <td>74447.00</td>\n      <td>284152.00</td>\n      <td>468036.00</td>\n      <td>165067.00</td>\n      <td>506432.00</td>\n      <td>283832.00</td>\n      <td>216025.00</td>\n      <td>295370.00</td>\n      <td>628758.00</td>\n      <td>1.00e+06</td>\n      <td>549162.00</td>\n      <td>290342.00</td>\n      <td>156015.00</td>\n    </tr>\n  </tbody>\n</table>\n</div>"
     },
     "metadata": {},
     "execution_count": 4
    }
   ],
   "source": [
    "county_econ_df.describe()"
   ]
  },
  {
   "cell_type": "code",
   "execution_count": 5,
   "metadata": {},
   "outputs": [],
   "source": [
    "new_columns = ['pct_agriculture', 'pct_construction', 'pct_manufacturing', 'pct_wholesale',\n",
    "               'pct_retail', 'pct_transportation', 'pct_information', 'pct_finance', \n",
    "               'pct_professional', 'pct_education', 'pct_arts_food', 'pct_other',\n",
    "               'pct_public']\n",
    "\n",
    "columns = county_econ_df.columns[1:]"
   ]
  },
  {
   "cell_type": "code",
   "execution_count": 10,
   "metadata": {},
   "outputs": [
    {
     "output_type": "execute_result",
     "data": {
      "text/plain": "                                                    C24050_001E  C24050_002E  C24050_003E  C24050_004E  C24050_005E  C24050_006E  C24050_007E  C24050_008E  C24050_009E  C24050_010E  C24050_011E  C24050_012E  C24050_013E  C24050_014E\nWashington County, Mississippi: Summary level: ...      17133.0        406.0        913.0       1363.0        399.0       2622.0       1037.0        311.0        607.0        990.0       4773.0       1718.0        720.0       1274.0\nPerry County, Mississippi: Summary level: 050, ...       4591.0        178.0        467.0        656.0        108.0        422.0        324.0         42.0         88.0        349.0       1020.0        362.0        256.0        319.0\nChoctaw County, Mississippi: Summary level: 050...       3097.0        185.0        295.0        478.0         39.0        422.0        218.0         16.0         42.0        121.0        869.0         44.0        178.0        190.0\nItawamba County, Mississippi: Summary level: 05...       9509.0        113.0        730.0       2413.0        139.0        986.0        653.0        119.0        513.0        609.0       2030.0        547.0        405.0        252.0\nCarroll County, Mississippi: Summary level: 050...       3466.0        106.0        341.0        512.0         68.0        198.0        254.0        162.0        132.0        229.0        761.0        199.0        172.0        332.0",
      "text/html": "<div>\n<style scoped>\n    .dataframe tbody tr th:only-of-type {\n        vertical-align: middle;\n    }\n\n    .dataframe tbody tr th {\n        vertical-align: top;\n    }\n\n    .dataframe thead th {\n        text-align: right;\n    }\n</style>\n<table border=\"1\" class=\"dataframe\">\n  <thead>\n    <tr style=\"text-align: right;\">\n      <th></th>\n      <th>C24050_001E</th>\n      <th>C24050_002E</th>\n      <th>C24050_003E</th>\n      <th>C24050_004E</th>\n      <th>C24050_005E</th>\n      <th>C24050_006E</th>\n      <th>C24050_007E</th>\n      <th>C24050_008E</th>\n      <th>C24050_009E</th>\n      <th>C24050_010E</th>\n      <th>C24050_011E</th>\n      <th>C24050_012E</th>\n      <th>C24050_013E</th>\n      <th>C24050_014E</th>\n    </tr>\n  </thead>\n  <tbody>\n    <tr>\n      <th>Washington County, Mississippi: Summary level: 050, state:28&gt; county:151</th>\n      <td>17133.0</td>\n      <td>406.0</td>\n      <td>913.0</td>\n      <td>1363.0</td>\n      <td>399.0</td>\n      <td>2622.0</td>\n      <td>1037.0</td>\n      <td>311.0</td>\n      <td>607.0</td>\n      <td>990.0</td>\n      <td>4773.0</td>\n      <td>1718.0</td>\n      <td>720.0</td>\n      <td>1274.0</td>\n    </tr>\n    <tr>\n      <th>Perry County, Mississippi: Summary level: 050, state:28&gt; county:111</th>\n      <td>4591.0</td>\n      <td>178.0</td>\n      <td>467.0</td>\n      <td>656.0</td>\n      <td>108.0</td>\n      <td>422.0</td>\n      <td>324.0</td>\n      <td>42.0</td>\n      <td>88.0</td>\n      <td>349.0</td>\n      <td>1020.0</td>\n      <td>362.0</td>\n      <td>256.0</td>\n      <td>319.0</td>\n    </tr>\n    <tr>\n      <th>Choctaw County, Mississippi: Summary level: 050, state:28&gt; county:019</th>\n      <td>3097.0</td>\n      <td>185.0</td>\n      <td>295.0</td>\n      <td>478.0</td>\n      <td>39.0</td>\n      <td>422.0</td>\n      <td>218.0</td>\n      <td>16.0</td>\n      <td>42.0</td>\n      <td>121.0</td>\n      <td>869.0</td>\n      <td>44.0</td>\n      <td>178.0</td>\n      <td>190.0</td>\n    </tr>\n    <tr>\n      <th>Itawamba County, Mississippi: Summary level: 050, state:28&gt; county:057</th>\n      <td>9509.0</td>\n      <td>113.0</td>\n      <td>730.0</td>\n      <td>2413.0</td>\n      <td>139.0</td>\n      <td>986.0</td>\n      <td>653.0</td>\n      <td>119.0</td>\n      <td>513.0</td>\n      <td>609.0</td>\n      <td>2030.0</td>\n      <td>547.0</td>\n      <td>405.0</td>\n      <td>252.0</td>\n    </tr>\n    <tr>\n      <th>Carroll County, Mississippi: Summary level: 050, state:28&gt; county:015</th>\n      <td>3466.0</td>\n      <td>106.0</td>\n      <td>341.0</td>\n      <td>512.0</td>\n      <td>68.0</td>\n      <td>198.0</td>\n      <td>254.0</td>\n      <td>162.0</td>\n      <td>132.0</td>\n      <td>229.0</td>\n      <td>761.0</td>\n      <td>199.0</td>\n      <td>172.0</td>\n      <td>332.0</td>\n    </tr>\n  </tbody>\n</table>\n</div>"
     },
     "metadata": {},
     "execution_count": 10
    }
   ],
   "source": [
    "county_econ_df.head()"
   ]
  },
  {
   "cell_type": "code",
   "execution_count": 21,
   "metadata": {},
   "outputs": [],
   "source": [
    "county_econ_pct_df = county_econ_df.apply(lambda x: x/county_econ_df['C24050_001E'])\n",
    "county_econ_pct_df.drop(columns='C24050_001E', inplace=True)"
   ]
  },
  {
   "cell_type": "code",
   "execution_count": 23,
   "metadata": {},
   "outputs": [],
   "source": [
    "county_econ_pct_df.columns = new_columns"
   ]
  },
  {
   "cell_type": "code",
   "execution_count": 24,
   "metadata": {},
   "outputs": [
    {
     "output_type": "execute_result",
     "data": {
      "text/plain": "                                                    pct_agriculture  pct_construction  pct_manufacturing  pct_wholesale  pct_retail  pct_transportation  pct_information  pct_finance  pct_professional  pct_education  pct_arts_food  pct_other  pct_public\nWashington County, Mississippi: Summary level: ...             0.02              0.05               0.08           0.02        0.15                0.06         1.82e-02         0.04              0.06           0.28           0.10       0.04        0.07\nPerry County, Mississippi: Summary level: 050, ...             0.04              0.10               0.14           0.02        0.09                0.07         9.15e-03         0.02              0.08           0.22           0.08       0.06        0.07\nChoctaw County, Mississippi: Summary level: 050...             0.06              0.10               0.15           0.01        0.14                0.07         5.17e-03         0.01              0.04           0.28           0.01       0.06        0.06\nItawamba County, Mississippi: Summary level: 05...             0.01              0.08               0.25           0.01        0.10                0.07         1.25e-02         0.05              0.06           0.21           0.06       0.04        0.03\nCarroll County, Mississippi: Summary level: 050...             0.03              0.10               0.15           0.02        0.06                0.07         4.67e-02         0.04              0.07           0.22           0.06       0.05        0.10",
      "text/html": "<div>\n<style scoped>\n    .dataframe tbody tr th:only-of-type {\n        vertical-align: middle;\n    }\n\n    .dataframe tbody tr th {\n        vertical-align: top;\n    }\n\n    .dataframe thead th {\n        text-align: right;\n    }\n</style>\n<table border=\"1\" class=\"dataframe\">\n  <thead>\n    <tr style=\"text-align: right;\">\n      <th></th>\n      <th>pct_agriculture</th>\n      <th>pct_construction</th>\n      <th>pct_manufacturing</th>\n      <th>pct_wholesale</th>\n      <th>pct_retail</th>\n      <th>pct_transportation</th>\n      <th>pct_information</th>\n      <th>pct_finance</th>\n      <th>pct_professional</th>\n      <th>pct_education</th>\n      <th>pct_arts_food</th>\n      <th>pct_other</th>\n      <th>pct_public</th>\n    </tr>\n  </thead>\n  <tbody>\n    <tr>\n      <th>Washington County, Mississippi: Summary level: 050, state:28&gt; county:151</th>\n      <td>0.02</td>\n      <td>0.05</td>\n      <td>0.08</td>\n      <td>0.02</td>\n      <td>0.15</td>\n      <td>0.06</td>\n      <td>1.82e-02</td>\n      <td>0.04</td>\n      <td>0.06</td>\n      <td>0.28</td>\n      <td>0.10</td>\n      <td>0.04</td>\n      <td>0.07</td>\n    </tr>\n    <tr>\n      <th>Perry County, Mississippi: Summary level: 050, state:28&gt; county:111</th>\n      <td>0.04</td>\n      <td>0.10</td>\n      <td>0.14</td>\n      <td>0.02</td>\n      <td>0.09</td>\n      <td>0.07</td>\n      <td>9.15e-03</td>\n      <td>0.02</td>\n      <td>0.08</td>\n      <td>0.22</td>\n      <td>0.08</td>\n      <td>0.06</td>\n      <td>0.07</td>\n    </tr>\n    <tr>\n      <th>Choctaw County, Mississippi: Summary level: 050, state:28&gt; county:019</th>\n      <td>0.06</td>\n      <td>0.10</td>\n      <td>0.15</td>\n      <td>0.01</td>\n      <td>0.14</td>\n      <td>0.07</td>\n      <td>5.17e-03</td>\n      <td>0.01</td>\n      <td>0.04</td>\n      <td>0.28</td>\n      <td>0.01</td>\n      <td>0.06</td>\n      <td>0.06</td>\n    </tr>\n    <tr>\n      <th>Itawamba County, Mississippi: Summary level: 050, state:28&gt; county:057</th>\n      <td>0.01</td>\n      <td>0.08</td>\n      <td>0.25</td>\n      <td>0.01</td>\n      <td>0.10</td>\n      <td>0.07</td>\n      <td>1.25e-02</td>\n      <td>0.05</td>\n      <td>0.06</td>\n      <td>0.21</td>\n      <td>0.06</td>\n      <td>0.04</td>\n      <td>0.03</td>\n    </tr>\n    <tr>\n      <th>Carroll County, Mississippi: Summary level: 050, state:28&gt; county:015</th>\n      <td>0.03</td>\n      <td>0.10</td>\n      <td>0.15</td>\n      <td>0.02</td>\n      <td>0.06</td>\n      <td>0.07</td>\n      <td>4.67e-02</td>\n      <td>0.04</td>\n      <td>0.07</td>\n      <td>0.22</td>\n      <td>0.06</td>\n      <td>0.05</td>\n      <td>0.10</td>\n    </tr>\n  </tbody>\n</table>\n</div>"
     },
     "metadata": {},
     "execution_count": 24
    }
   ],
   "source": [
    "county_econ_pct_df.head()"
   ]
  },
  {
   "cell_type": "code",
   "execution_count": 15,
   "metadata": {},
   "outputs": [],
   "source": [
    "county_econ_pct_2_df = county_econ_df.apply(lambda x: x/county_econ_df['C24050_001E'])"
   ]
  },
  {
   "cell_type": "code",
   "execution_count": 16,
   "metadata": {},
   "outputs": [
    {
     "output_type": "execute_result",
     "data": {
      "text/plain": "                                                    C24050_001E  C24050_002E  C24050_003E  C24050_004E  C24050_005E  C24050_006E  C24050_007E  C24050_008E  C24050_009E  C24050_010E  C24050_011E  C24050_012E  C24050_013E  C24050_014E\nWashington County, Mississippi: Summary level: ...          1.0         0.02         0.05         0.08         0.02         0.15         0.06     1.82e-02         0.04         0.06         0.28         0.10         0.04         0.07\nPerry County, Mississippi: Summary level: 050, ...          1.0         0.04         0.10         0.14         0.02         0.09         0.07     9.15e-03         0.02         0.08         0.22         0.08         0.06         0.07\nChoctaw County, Mississippi: Summary level: 050...          1.0         0.06         0.10         0.15         0.01         0.14         0.07     5.17e-03         0.01         0.04         0.28         0.01         0.06         0.06\nItawamba County, Mississippi: Summary level: 05...          1.0         0.01         0.08         0.25         0.01         0.10         0.07     1.25e-02         0.05         0.06         0.21         0.06         0.04         0.03\nCarroll County, Mississippi: Summary level: 050...          1.0         0.03         0.10         0.15         0.02         0.06         0.07     4.67e-02         0.04         0.07         0.22         0.06         0.05         0.10",
      "text/html": "<div>\n<style scoped>\n    .dataframe tbody tr th:only-of-type {\n        vertical-align: middle;\n    }\n\n    .dataframe tbody tr th {\n        vertical-align: top;\n    }\n\n    .dataframe thead th {\n        text-align: right;\n    }\n</style>\n<table border=\"1\" class=\"dataframe\">\n  <thead>\n    <tr style=\"text-align: right;\">\n      <th></th>\n      <th>C24050_001E</th>\n      <th>C24050_002E</th>\n      <th>C24050_003E</th>\n      <th>C24050_004E</th>\n      <th>C24050_005E</th>\n      <th>C24050_006E</th>\n      <th>C24050_007E</th>\n      <th>C24050_008E</th>\n      <th>C24050_009E</th>\n      <th>C24050_010E</th>\n      <th>C24050_011E</th>\n      <th>C24050_012E</th>\n      <th>C24050_013E</th>\n      <th>C24050_014E</th>\n    </tr>\n  </thead>\n  <tbody>\n    <tr>\n      <th>Washington County, Mississippi: Summary level: 050, state:28&gt; county:151</th>\n      <td>1.0</td>\n      <td>0.02</td>\n      <td>0.05</td>\n      <td>0.08</td>\n      <td>0.02</td>\n      <td>0.15</td>\n      <td>0.06</td>\n      <td>1.82e-02</td>\n      <td>0.04</td>\n      <td>0.06</td>\n      <td>0.28</td>\n      <td>0.10</td>\n      <td>0.04</td>\n      <td>0.07</td>\n    </tr>\n    <tr>\n      <th>Perry County, Mississippi: Summary level: 050, state:28&gt; county:111</th>\n      <td>1.0</td>\n      <td>0.04</td>\n      <td>0.10</td>\n      <td>0.14</td>\n      <td>0.02</td>\n      <td>0.09</td>\n      <td>0.07</td>\n      <td>9.15e-03</td>\n      <td>0.02</td>\n      <td>0.08</td>\n      <td>0.22</td>\n      <td>0.08</td>\n      <td>0.06</td>\n      <td>0.07</td>\n    </tr>\n    <tr>\n      <th>Choctaw County, Mississippi: Summary level: 050, state:28&gt; county:019</th>\n      <td>1.0</td>\n      <td>0.06</td>\n      <td>0.10</td>\n      <td>0.15</td>\n      <td>0.01</td>\n      <td>0.14</td>\n      <td>0.07</td>\n      <td>5.17e-03</td>\n      <td>0.01</td>\n      <td>0.04</td>\n      <td>0.28</td>\n      <td>0.01</td>\n      <td>0.06</td>\n      <td>0.06</td>\n    </tr>\n    <tr>\n      <th>Itawamba County, Mississippi: Summary level: 050, state:28&gt; county:057</th>\n      <td>1.0</td>\n      <td>0.01</td>\n      <td>0.08</td>\n      <td>0.25</td>\n      <td>0.01</td>\n      <td>0.10</td>\n      <td>0.07</td>\n      <td>1.25e-02</td>\n      <td>0.05</td>\n      <td>0.06</td>\n      <td>0.21</td>\n      <td>0.06</td>\n      <td>0.04</td>\n      <td>0.03</td>\n    </tr>\n    <tr>\n      <th>Carroll County, Mississippi: Summary level: 050, state:28&gt; county:015</th>\n      <td>1.0</td>\n      <td>0.03</td>\n      <td>0.10</td>\n      <td>0.15</td>\n      <td>0.02</td>\n      <td>0.06</td>\n      <td>0.07</td>\n      <td>4.67e-02</td>\n      <td>0.04</td>\n      <td>0.07</td>\n      <td>0.22</td>\n      <td>0.06</td>\n      <td>0.05</td>\n      <td>0.10</td>\n    </tr>\n  </tbody>\n</table>\n</div>"
     },
     "metadata": {},
     "execution_count": 16
    }
   ],
   "source": [
    "county_econ_pct_2_df.head()"
   ]
  },
  {
   "cell_type": "code",
   "execution_count": 18,
   "metadata": {},
   "outputs": [
    {
     "output_type": "execute_result",
     "data": {
      "text/plain": "Washington County, Mississippi: Summary level: 050, state:28> county:151    1.0\nPerry County, Mississippi: Summary level: 050, state:28> county:111         1.0\nChoctaw County, Mississippi: Summary level: 050, state:28> county:019       1.0\nItawamba County, Mississippi: Summary level: 050, state:28> county:057      1.0\nCarroll County, Mississippi: Summary level: 050, state:28> county:015       1.0\n                                                                           ... \nClayton County, Iowa: Summary level: 050, state:19> county:043              1.0\nBuena Vista County, Iowa: Summary level: 050, state:19> county:021          1.0\nGuthrie County, Iowa: Summary level: 050, state:19> county:077              1.0\nHumboldt County, Iowa: Summary level: 050, state:19> county:091             1.0\nWashington County, Iowa: Summary level: 050, state:19> county:183           1.0\nLength: 3220, dtype: float64"
     },
     "metadata": {},
     "execution_count": 18
    }
   ],
   "source": [
    "county_econ_pct_2_df.iloc[:,1:].sum(axis=1)"
   ]
  },
  {
   "cell_type": "code",
   "execution_count": null,
   "metadata": {},
   "outputs": [],
   "source": []
  }
 ]
}